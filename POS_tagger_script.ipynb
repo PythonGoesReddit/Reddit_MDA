{
 "cells": [
  {
   "cell_type": "code",
   "execution_count": 2,
   "metadata": {},
   "outputs": [
    {
     "name": "stderr",
     "output_type": "stream",
     "text": [
      "c:\\Users\\gusta\\AppData\\Local\\Programs\\Python\\Python39\\lib\\site-packages\\tqdm\\auto.py:22: TqdmWarning: IProgress not found. Please update jupyter and ipywidgets. See https://ipywidgets.readthedocs.io/en/stable/user_install.html\n",
      "  from .autonotebook import tqdm as notebook_tqdm\n"
     ]
    },
    {
     "name": "stdout",
     "output_type": "stream",
     "text": [
      "2023-07-11 10:48:15,323 loading file D:/example-pos/RedditTaggerFinal150.pt\n",
      "2023-07-11 10:48:51,064 SequenceTagger predicts: Dictionary with 49 tags: <unk>, O, LS, NN, VBG, VBZ, DT, RB, JJ, WDT, VBN, IN, CC, ., NNS, VBP, ,, TO, -LRB-, NNP, -RRB-, RBR, JJR, PRP, CD, VB, MD, PRP$, POS, RBS, :, JJS, NNPS, VBD, RP, WRB, WP, SYM, EX, FW, UH, -LSB-, -RSB-, ``, '', PDT, WP$, <START>, <STOP>\n",
      "0:00:39.860066\n"
     ]
    }
   ],
   "source": [
    "from collections import defaultdict\n",
    "import Reddit_MDA\n",
    "import os\n",
    "import torch\n",
    "import flair\n",
    "\n"
   ]
  },
  {
   "cell_type": "code",
   "execution_count": 3,
   "metadata": {},
   "outputs": [
    {
     "name": "stdout",
     "output_type": "stream",
     "text": [
      "cuda:0\n"
     ]
    }
   ],
   "source": [
    "device = None\n",
    "torch.cuda.is_available()\n",
    "if torch.cuda.is_available():\n",
    "    device = torch.device('cuda:0')\n",
    "else:\n",
    "    device = torch.device('cpu')\n",
    "\n",
    "flair.device = torch.device('cuda:0')\n",
    "print(flair.device)"
   ]
  },
  {
   "cell_type": "code",
   "execution_count": 11,
   "metadata": {},
   "outputs": [
    {
     "data": {
      "text/plain": [
       "[('X', 'X'),\n",
       " ('X', 'X'),\n",
       " ('X', 'X'),\n",
       " ('this', 'DT'),\n",
       " ('is', 'VBZ'),\n",
       " ('a', 'DT'),\n",
       " ('test', 'NN'),\n",
       " ('sentence', 'NN'),\n",
       " ('X', 'X'),\n",
       " ('X', 'X'),\n",
       " ('X', 'X')]"
      ]
     },
     "execution_count": 11,
     "metadata": {},
     "output_type": "execute_result"
    }
   ],
   "source": [
    "text = \"This is a test sentence\"\n",
    "\n",
    "Reddit_MDA.tag_sentence(text)"
   ]
  }
 ],
 "metadata": {
  "kernelspec": {
   "display_name": "Python 3",
   "language": "python",
   "name": "python3"
  },
  "language_info": {
   "codemirror_mode": {
    "name": "ipython",
    "version": 3
   },
   "file_extension": ".py",
   "mimetype": "text/x-python",
   "name": "python",
   "nbconvert_exporter": "python",
   "pygments_lexer": "ipython3",
   "version": "3.9.10"
  },
  "orig_nbformat": 4
 },
 "nbformat": 4,
 "nbformat_minor": 2
}
