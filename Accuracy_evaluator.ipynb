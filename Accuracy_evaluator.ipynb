{
 "cells": [
  {
   "cell_type": "markdown",
   "metadata": {},
   "source": [
    "Import all libraries and dependencies"
   ]
  },
  {
   "cell_type": "code",
   "execution_count": 1,
   "metadata": {},
   "outputs": [],
   "source": [
    "import json\n",
    "import os \n",
    "import sklearn\n",
    "from sklearn import metrics"
   ]
  },
  {
   "cell_type": "markdown",
   "metadata": {},
   "source": [
    "Path directory "
   ]
  },
  {
   "cell_type": "code",
   "execution_count": 2,
   "metadata": {},
   "outputs": [],
   "source": [
    "dirname = os.path.dirname(\"C:/Users/gusta/Documents/GitHub/Reddit_MDA/Tagged_JSONS\")\n",
    "data_folder = os.path.join(dirname, 'sample_data')\n",
    "all_files = [os.path.join(\"sample_data\", file) for file in os.listdir(data_folder) if os.path.splitext(file)[1] == \".json\"]"
   ]
  },
  {
   "cell_type": "markdown",
   "metadata": {},
   "source": [
    "Opens the .txt files with the Gold standard tags and creates a new dictionary. \n",
    "\n",
    "I'm still not certain whether to create one or two dictionaries (one for the keys and one for the values, or simply combine both in the same dictionary)\n",
    "\n"
   ]
  },
  {
   "cell_type": "code",
   "execution_count": null,
   "metadata": {},
   "outputs": [],
   "source": [
    "gold_tags_key = {}\n",
    "gold_tags_value = {}\n",
    "\n",
    "with open (\"C:/Users/gusta/Documents/GitHub/Reddit_MDA/Tagged_JSONS/RC_2005-12_tagged_manual_Batch1_done.txt\") as f: \n",
    "    for line in f:\n",
    "        line = line.split()\n",
    "        # gold_tags_key[line[0]] = line[1]\n",
    "        gold_tags_value[line[2]] = line[2:]\n",
    "print (gold_tags_key, gold_tags_value)        "
   ]
  },
  {
   "cell_type": "markdown",
   "metadata": {},
   "source": [
    "Opens the Json files and extracts the relevant tags"
   ]
  },
  {
   "cell_type": "code",
   "execution_count": null,
   "metadata": {},
   "outputs": [],
   "source": [
    "Flair_tagged = {}\n",
    "NLTK_tagged = {}\n",
    "\n",
    "Flair_json = [json.loads(line) for line in open('C:/Users/gusta/Documents/GitHub/Reddit_MDA/Tagged_JSONS/RC_2005-12_tagged_FLAIR.json','r')]\n",
    "NLTK_json = [json.loads(line) for line in open('C:/Users/gusta/Documents/GitHub/Reddit_MDA/Tagged_JSONS/RC_2005-12_tagged_NLTK.json','r')]\n",
    "\n",
    "with open(Flair_json) as f:\n",
    "    for line in f:\n",
    "        sentence_tagged = json.loads(line.strip())[\"tagged_sentence\"]\n",
    "        link_id = json.loads(line.strip())[\"link_id\"]\n",
    "        sentence_no = json.loads(line.strip())[\"sentence_no\"]\n",
    "    Flair_tagged.append\n",
    "\n",
    "with open(NLTK_json) as f:\n",
    "    for line in f:\n",
    "        sentence_tagged = json.loads(line.strip())[\"tagged_sentence\"]\n",
    "        link_id = json.loads(line.strip())[\"link_id\"]\n",
    "        sentence_no = json.loads(line.strip())[\"sentence_no\"]\n",
    "    NLTK_tagged.append    \n",
    "    \n"
   ]
  },
  {
   "cell_type": "markdown",
   "metadata": {},
   "source": [
    "Evaluates f-scores with SKLEARN metrics \n",
    "\n",
    "I used these links as reference \n",
    "\n",
    "https://natemccoy.github.io/2016/10/27/evaluatingnltktaggerstutorial.html\n",
    "\n",
    "https://stackoverflow.com/questions/46713629/evaluating-pos-tagger-in-nltk"
   ]
  },
  {
   "cell_type": "code",
   "execution_count": null,
   "metadata": {},
   "outputs": [],
   "source": [
    "golds = [tag for sentence in gold_tags_value for _,tag in sentence]\n",
    "Flair_tagger_pred_labels = [tag for sentence in Flair_tagged for _,tag in sentence]\n",
    "NLTK_tagger_pred_labels = [tag for sentence in NLTK_tagged for _,tag in sentence]\n",
    "\n",
    "for preds,tagger in [(Flair_tagger_pred_labels),(NLTK_tagger_pred_labels),]:\n",
    "    print(\"Metrics for\",tagger)\n",
    "    print(\" Accuracy :\", metrics.accuracy_score(golds,preds))\n",
    "    print(\" Precision:\", metrics.precision_score(golds,preds,average='weighted'))\n",
    "    print(\" Recall   :\", metrics.recall_score(golds,preds,average='weighted'))\n",
    "    print(\" F1-Score :\", metrics.f1_score(golds,preds,average='weighted'))\n",
    "    print()"
   ]
  }
 ],
 "metadata": {
  "interpreter": {
   "hash": "915ec26a27f31d7a8db4bf03f6f41f87084598d7b314c76fa930970a9cbd09a8"
  },
  "kernelspec": {
   "display_name": "Python 3.9.13 64-bit",
   "language": "python",
   "name": "python3"
  },
  "language_info": {
   "codemirror_mode": {
    "name": "ipython",
    "version": 3
   },
   "file_extension": ".py",
   "mimetype": "text/x-python",
   "name": "python",
   "nbconvert_exporter": "python",
   "pygments_lexer": "ipython3",
   "version": "3.9.13"
  },
  "orig_nbformat": 4
 },
 "nbformat": 4,
 "nbformat_minor": 2
}
